{
  "cells": [
    {
      "cell_type": "markdown",
      "metadata": {
        "id": "view-in-github",
        "colab_type": "text"
      },
      "source": [
        "<a href=\"https://colab.research.google.com/github/gcorrigan/Science-des-donnees/blob/main/Science_des_donn%C3%A9es_Partie_1.ipynb\" target=\"_parent\"><img src=\"https://colab.research.google.com/assets/colab-badge.svg\" alt=\"Open In Colab\"/></a>"
      ]
    },
    {
      "cell_type": "markdown",
      "metadata": {
        "id": "XKL_kqaScRSg"
      },
      "source": [
        "# La science des données- Partie 1\n",
        "### Introduction au génie informatique, 11e année, cours préuniversitaire (ICS3U)\n",
        "\n",
        "# Description générale du cours\n",
        "> Ce cours initie l’élève aux concepts fondamentaux de l’informatique et aux techniques de développement de logiciels. Dans le cadre de divers projets illustrant le cycle de vie d’un logiciel, l’élève développe des habiletés et une compréhension solide d’un langage de programmation en se familiarisant avec les outils et les techniques de développement de logiciels, notamment la résolution de problèmes, la conception d’algorithmes et l’assurance-qualité.\n",
        "\n",
        "[Études informatiques (2008)](https://www.edu.gov.on.ca/fre/curriculum/secondary/computer10to12_2008fr.pdf#page=49)\n",
        "\n",
        "\n"
      ]
    },
    {
      "cell_type": "markdown",
      "source": [
        "### La science des données en 3 parties\n",
        "\n",
        "**Partie 1 : Nous examinons les structures de données de base de Python ainsi que quelques visualisations simples.**\n",
        "\n",
        "Partie 2 : Nous explorons et apprenons à utiliser plus en profondeur les outils de science des données dédiés de Python.\n",
        "\n",
        "Partie 3 : Nous appliquons nos connaissances à un projet comportant plusieurs étapes et visualisations."
      ],
      "metadata": {
        "id": "BP5-b_ZQkEbQ"
      }
    },
    {
      "cell_type": "markdown",
      "metadata": {
        "id": "d6XxOSceYYQ6"
      },
      "source": [
        "#Programme\n",
        "*   Initiation à *Jupyter Notebook* avec **Python** sur *Google Colab* et *Callysto*\n",
        "*   Exploration des structures de données de Python (listes, ensembles (*sets*) et dictionnaires)\n",
        "*   Tracé de données avec **Matplotlib**\n",
        "*   Importation d'un jeu de données simple avec une seule variable à l'aide de **Pandas**\n"
      ]
    },
    {
      "cell_type": "markdown",
      "metadata": {
        "id": "BuOYFjZWduQJ"
      },
      "source": [
        "## Les objectifs d’apprentissage\n",
        "Démontrer la capacité à utiliser différents types de données, y compris des tableaux à une dimension (listes), dans des programmes informatiques;\n"
      ]
    },
    {
      "cell_type": "markdown",
      "metadata": {
        "id": "32GkajOoDIMA"
      },
      "source": [
        "## Les critères de réussite\n",
        "*   Je peux utiliser le type de données le plus approprié pour concevoir, implémenter et tester des programmes Python.\n",
        "*   Je peux démontrer comment les données sont encodées et stockées en utilisant différents systèmes, y compris le binaire, l'héxadécimal et UNICODE."
      ]
    },
    {
      "cell_type": "markdown",
      "metadata": {
        "id": "upltuGD1XJxL"
      },
      "source": [
        "Les données sont **encodées** en utilisant de nombreuses techniques différentes, par exemple, les images sont encodées en utilisant des pixels et des couleurs et Le texte est encodé en utilisant [Unicode](http://www.unicode.org/charts/fr/).\n",
        "\n",
        "Ici, nous utiliserons la puissance des notebooks Jupyter et de Python pour voir réellement certains des caractères imprimables définis dans la norme Unicode.\n",
        "\n",
        "Commençons par les chiffres et les lettres standard."
      ]
    },
    {
      "cell_type": "code",
      "execution_count": null,
      "metadata": {
        "id": "RSOXAgZhVVrL"
      },
      "outputs": [],
      "source": [
        "print (f\"DEC   HEX        BIN   VALUE\")\n",
        "for a in range(65,123,1):\n",
        "  print (f'{a:3}    {a:x}   {a:08b}       {chr(a)}')"
      ]
    },
    {
      "cell_type": "markdown",
      "metadata": {
        "id": "VK5IF1NjXbcZ"
      },
      "source": [
        "Explorons maintenant des valeurs beaucoup plus grandes. Nous commencerons par le célèbre [emoji visage souriant](https://symbl.cc/fr/1F600/) qui est défini en utilisant la valeur Unicode hexadécimale de **`x1f600`** ou décimale 128512."
      ]
    },
    {
      "cell_type": "code",
      "execution_count": null,
      "metadata": {
        "id": "RtxgVhpjXyx0"
      },
      "outputs": [],
      "source": [
        "# Les emojis sont encodés selon la même technique que les lettres et les chiffres\n",
        "\n",
        "print (f\"   DEC      HEX                 BIN    VALUE\")\n",
        "for a in range(128512,128592,1):\n",
        "  print (f'{a:3}    {a:x}   {a:8b}       {chr(a)}')"
      ]
    },
    {
      "cell_type": "markdown",
      "metadata": {
        "id": "WGy6fyFvepTM"
      },
      "source": [
        "Il existe de nombreux **types de données** utilisés en Python. Pour ce notebook, nous travaillerons principalement avec des données numériques, notamment des entiers et des valeurs décimales.\n",
        "\n",
        "*   **Integer** (pour stocker des nombres entiers)\n",
        "*   **Float** - *flottant* (pour stocker des nombres réels écrits en notation décimale ou à virgule)\n",
        "*   **String** - *chaîne* (pour stocker des données en format de suite de caractères)\n"
      ]
    },
    {
      "cell_type": "markdown",
      "metadata": {
        "id": "rwkJoaVkf6yA"
      },
      "source": [
        "Des exemples d'entiers sont: **`-23, 0, 22`**\n",
        "\n",
        "---\n",
        "\n",
        "\n",
        "\n",
        "Nous allons attribuer des valeurs aux variables et effectuer des opérations mathématiques à l'aide des données.\n",
        "\n",
        "\n",
        "\n",
        "---\n",
        "\n",
        "\n",
        "**REMARQUE IMPORTANTE :**\n",
        "\n",
        "Certains langages de programmation exigent que le programmeur spécifie *explicitement* le type de données lors de l'introduction de la variable. \n",
        "\n",
        "Python est un *langage à typage dynamique* et donc il tentera de déterminer le type de données en fonction du contexte de son utilisation.\n",
        "\n",
        "\n",
        "\n"
      ]
    },
    {
      "cell_type": "markdown",
      "metadata": {
        "id": "4V3PE82yZ6j5"
      },
      "source": [
        "Utilisons des **œufs** pour cette tâche. Nous allons créer une variable qui sera utilisée pour suivre le nombre total d'œufs.\n",
        "\n",
        "Une **variable** est simplement une *zone de stockage nommée* dans un langage de programmation."
      ]
    },
    {
      "cell_type": "markdown",
      "metadata": {
        "id": "KigHuNGjduT8"
      },
      "source": [
        "![8610203218_5f3ef01ba9_w.jpg](data:image/jpeg;base64,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)"
      ]
    },
    {
      "cell_type": "code",
      "execution_count": null,
      "metadata": {
        "id": "AW3wEEQvYXFX"
      },
      "outputs": [],
      "source": [
        "œufs = 20"
      ]
    },
    {
      "cell_type": "markdown",
      "metadata": {
        "id": "_FhiJwf8iSCc"
      },
      "source": [
        "Vérifions le type de données de cette nouvelle variable.\n",
        "\n",
        "Nous pouvons utiliser la fonction intégrée **`type()`** pour effectuer cette tâche."
      ]
    },
    {
      "cell_type": "code",
      "execution_count": null,
      "metadata": {
        "colab": {
          "base_uri": "https://localhost:8080/"
        },
        "id": "mROXwbOEihRY",
        "outputId": "d74bfd28-ebcc-4056-d723-094f263dba82"
      },
      "outputs": [
        {
          "output_type": "execute_result",
          "data": {
            "text/plain": [
              "int"
            ]
          },
          "metadata": {},
          "execution_count": 12
        }
      ],
      "source": [
        "type (œufs)"
      ]
    },
    {
      "cell_type": "markdown",
      "metadata": {
        "id": "PrILvXVpin0x"
      },
      "source": [
        "Nous allons maintenant vérifier que nous pouvons effectuer des opérations mathématiques typiques en utilisant cette variable.\n",
        "\n",
        "\n",
        "---\n",
        "\n",
        "\n",
        "**REMARQUE IMPORTANTE :** En Python, nous utilisons un astérisque * à la place du symbole de multiplication ×\n",
        "\n",
        "\n",
        "\n",
        "---\n",
        "\n",
        "\n",
        "Pour doubler le nombre d'oeufs, on tapera **`oeufs * 2`**"
      ]
    },
    {
      "cell_type": "code",
      "execution_count": null,
      "metadata": {
        "id": "8H14Y6r0iyCL"
      },
      "outputs": [],
      "source": [
        "œufs * 2"
      ]
    },
    {
      "cell_type": "markdown",
      "metadata": {
        "id": "hNxOnwq4i2Ru"
      },
      "source": [
        "## **Défi** : Écrivez une instruction Python pour tripler le nombre d'œufs"
      ]
    },
    {
      "cell_type": "code",
      "execution_count": null,
      "metadata": {
        "id": "29BIKuzei9Cw"
      },
      "outputs": [],
      "source": [
        "# Écrivez une instruction Python pour tripler le nombre d'œufs"
      ]
    },
    {
      "cell_type": "markdown",
      "metadata": {
        "id": "lWRoaYAsi_u3"
      },
      "source": [
        "Vérifions que le type de données est toujours le même lorsque nous multiplions par une autre valeur entière."
      ]
    },
    {
      "cell_type": "code",
      "execution_count": null,
      "metadata": {
        "id": "FzRKVqUrjF4s"
      },
      "outputs": [],
      "source": [
        "type (œufs * 3)"
      ]
    },
    {
      "cell_type": "markdown",
      "metadata": {
        "id": "g7Ua2VbujLD2"
      },
      "source": [
        "## **Défi** : Écrivez une instruction Python pour déterminer le nombre d'œufs supplémentaires si vous avez augmenté la quantité de 40 %.\n"
      ]
    },
    {
      "cell_type": "code",
      "execution_count": null,
      "metadata": {
        "id": "wPk7_sx2jTcq"
      },
      "outputs": [],
      "source": [
        "# écrire une instruction python pour déterminer 40 % du nombre actuel d'œufs"
      ]
    },
    {
      "cell_type": "markdown",
      "metadata": {
        "id": "CQSUIGyOjZah"
      },
      "source": [
        "## **Défi** : Vérifiez le type de données du résultat.\n"
      ]
    },
    {
      "cell_type": "code",
      "execution_count": null,
      "metadata": {
        "id": "2JAqqhuOj1lj"
      },
      "outputs": [],
      "source": [
        "# Vérifiez le type de données du résultat de l'opération mathématique précédente."
      ]
    },
    {
      "cell_type": "markdown",
      "metadata": {
        "id": "OMZe2U6XkJqc"
      },
      "source": [
        "Nous avons maintenant rencontré notre premier exemple de variable **à virgule flottante**. Lorsqu'une opération mathématique est effectuée avec au moins l'une des variables ou des nombres contenant une décimale, la sortie sera de type **float**.\n",
        "\n",
        "Dans ce cas, 8 œufs représenteraient 40% de la quantité initiale (*œufs = 20*). Nous allons donc ajouter cela à la quantité initiale et la stocker dans une nouvelle variable appelée :**`nom_total_œufs`**."
      ]
    },
    {
      "cell_type": "code",
      "execution_count": null,
      "metadata": {
        "id": "AKeFXyYymmLs"
      },
      "outputs": [],
      "source": [
        "nom_total_œufs = œufs + (œufs * .40)"
      ]
    },
    {
      "cell_type": "markdown",
      "source": [
        "où **`œufs`** représente la quantité initiale d'œufs. La variable **`nom_total_œufs`** contiendra la nouvelle quantité totale d'œufs, y compris les 8 œufs supplémentaires.\n",
        "\n",
        "\n",
        "---\n",
        "\n"
      ],
      "metadata": {
        "id": "tmv6EW0rjEpr"
      }
    },
    {
      "cell_type": "markdown",
      "metadata": {
        "id": "NXy_oNMumuVR"
      },
      "source": [
        "Nous pouvons utiliser la fonction intégrée **`print()`** pour vérifier la valeur actuelle stockée dans chaque variable."
      ]
    },
    {
      "cell_type": "code",
      "execution_count": null,
      "metadata": {
        "id": "joR4tqLcm4jh"
      },
      "outputs": [],
      "source": [
        "print (œufs)\n",
        "print (nom_total_œufs)"
      ]
    },
    {
      "cell_type": "markdown",
      "source": [
        "Ces instructions print afficheront la valeur actuelle de la variable **`œufs`** et **`nom_total_œufs`** dans la console Python.\n",
        "\n",
        "---\n",
        "\n"
      ],
      "metadata": {
        "id": "_gcoCsTrj5hl"
      }
    },
    {
      "cell_type": "markdown",
      "metadata": {
        "id": "xBRotUJTnQYE"
      },
      "source": [
        "Remarquez comment la variable **`nom_total_œufs`** inclut une composante décimale car elle est stockée en tant que variable à virgule flottante et non en tant qu'entier. Dans ce cas, cela n'a pas trop d'importance.\n",
        "\n",
        "\n",
        "Qu'arriverait-il si l'augmentation en pourcentage aboutissent à un nombre avec une composante fractionnaire non nulle ?\n",
        "\n",
        "---\n"
      ]
    },
    {
      "cell_type": "markdown",
      "source": [
        "## **Défi** : Déterminez le nombre d'œufs s'il y avait une augmentation de 57 %"
      ],
      "metadata": {
        "id": "1llbKJEKoWK_"
      }
    },
    {
      "cell_type": "code",
      "execution_count": null,
      "metadata": {
        "id": "LLlYGqsAnu8f"
      },
      "outputs": [],
      "source": [
        "# écrire une instruction python pour déterminer 57 % du nombre actuel d'œufs\n"
      ]
    },
    {
      "cell_type": "markdown",
      "metadata": {
        "id": "lAtusHx3n99y"
      },
      "source": [
        "Remarquez comment Python n'a pas été en mesure de déterminer une réponse spécifique. Le résultat approximatif est de 11,4 œufs.\n",
        "\n",
        "Si nous cherchons à atteindre une production d'œufs de 57% ou plus, nous devrons augmenter le nombre initial d'œufs de 12. Par conséquent, nous cherchons à arrondir la réponse au nombre entier supérieur suivant. Cela peut être accompli en utilisant une fonction intégrée appelée **`math.ceil()`**. (La fonction **`math.ceil()`** est l'abréviation de ceiling.)\n",
        "\n",
        "\n",
        "Pour utiliser cette fonction, nous devons importer la bibliothèque mathématique comme indiqué."
      ]
    },
    {
      "cell_type": "code",
      "execution_count": null,
      "metadata": {
        "id": "YCJCZVlGol6f",
        "colab": {
          "base_uri": "https://localhost:8080/"
        },
        "outputId": "5ee55c72-d986-49ff-a3c7-d5b27ebf9ca5"
      },
      "outputs": [
        {
          "output_type": "execute_result",
          "data": {
            "text/plain": [
              "12"
            ]
          },
          "metadata": {},
          "execution_count": 13
        }
      ],
      "source": [
        "import math\n",
        "math.ceil(œufs * .57)"
      ]
    },
    {
      "cell_type": "markdown",
      "metadata": {
        "id": "7_LZvWqopUAq"
      },
      "source": [
        "La fonction **modulo** '%' est très utile car elle permet de déterminer le reste d'une division.\n",
        "\n",
        "Prenons en considération le problème de déterminer le nombre de cartons d'œufs requis pour une certaine quantité d'œufs."
      ]
    },
    {
      "cell_type": "code",
      "execution_count": null,
      "metadata": {
        "id": "Uq2x0Vhcp7ue"
      },
      "outputs": [],
      "source": [
        "œufs = 129       # nombre total d'œufs à transporter\n",
        "taille_de_carton = 12 # chaque carton peut contenir une douzaine d'œufs"
      ]
    },
    {
      "cell_type": "markdown",
      "metadata": {
        "id": "Kfe3m1V-qIsu"
      },
      "source": [
        "Nous avons maintenant nos deux éléments de données stockés. Utilisons Python pour déterminer le nombre de cartons requis."
      ]
    },
    {
      "cell_type": "code",
      "execution_count": null,
      "metadata": {
        "id": "GqDzLA3HqRYk"
      },
      "outputs": [],
      "source": [
        "# pour déterminer le nombre de cartons nécessaires\n",
        "nom_de_carton = œufs / taille_de_carton\n",
        "print (nom_de_carton)"
      ]
    },
    {
      "cell_type": "markdown",
      "metadata": {
        "id": "J6lVJzXhqcUx"
      },
      "source": [
        "Selon le résultat, nous aurions besoin de 10,75 cartons. Cela pourrait être calculé pour fournir un résultat plus utile en utilisant la fonction `math.ceil()`."
      ]
    },
    {
      "cell_type": "code",
      "execution_count": null,
      "metadata": {
        "id": "-ZwNdwfyqrPy"
      },
      "outputs": [],
      "source": [
        "import math\n",
        "nom_de_carton = math.ceil(œufs / taille_de_carton)\n",
        "print (nom_de_carton)"
      ]
    },
    {
      "cell_type": "markdown",
      "metadata": {
        "id": "VEuo1tRKqxnC"
      },
      "source": [
        "Comment pourrions-nous déterminer le niveau de remplissage du carton partiellement rempli ?\n",
        "\n"
      ]
    },
    {
      "cell_type": "markdown",
      "metadata": {
        "id": "s697qs9MrvOc"
      },
      "source": [
        "## **Défi** : Combien d'œufs est-ce qu'il y a dans le carton partiellement plein ?"
      ]
    },
    {
      "cell_type": "code",
      "execution_count": null,
      "metadata": {
        "id": "YQa3gPUiq-xV"
      },
      "outputs": [],
      "source": [
        "# Utilisez l'opérateur de modulo pour déterminer le nombre d'œufs restants dans le dernier carton.\n",
        "œufs_restants = œufs % taille_de_carton\n",
        "print (œufs_restants)"
      ]
    },
    {
      "cell_type": "markdown",
      "metadata": {
        "id": "WDIq7HzEpAyB"
      },
      "source": [
        "# Les structures de données de Python\n",
        "\n",
        "* listes\n",
        "* dictionaires\n",
        "* ensembles (*sets*)\n",
        "\n",
        "\n",
        "Toutes ces trois structures de données sont dynamiques car elles peuvent croître et diminuer selon les besoins. \n",
        "\n",
        "\n",
        "---\n",
        "\n",
        "\n",
        "\n",
        "*   Les éléments d'une liste sont généralement accessibles par leur position ou leur **index**. \n",
        "*   Les éléments d'un ensemble ne sont pas ordonnés et ne peuvent pas contenir de valeurs en double.\n",
        "*   Les éléments d'un dictionnaire sont accessibles par leur valeur de **clé** ou *key*. \n",
        "   *   Une clé est une pièce d'information unique qui peut être utilisée pour localiser la valeur ou les valeurs correspondantes.\n"
      ]
    },
    {
      "cell_type": "markdown",
      "metadata": {
        "id": "ry2pEr1msE7Y"
      },
      "source": [
        "## Les listes en Python\n",
        "\n",
        "Commençons par une simple liste de notes pour une classe. Nous supposerons que ces notes sont des nombres entiers.\n",
        "\n",
        "Pour cet exercice, nous explorerons également la façon d'obtenir des entrées utilisateur à partir d'un notebook Jupyter.\n",
        "\n",
        "Nous aimerions que le programme soit flexible, donc nous demanderons à l'utilisateur le nombre de cours et nous stockerons ensuite les notes dans une liste appelée **`notes`**."
      ]
    },
    {
      "cell_type": "markdown",
      "metadata": {
        "id": "l8SrW1xfjTJr"
      },
      "source": [
        "\n",
        "Les algorithmes sont généralement décrits à l'aide de **pseudocode**. \n",
        "\n",
        "Examinons le pseudocode d'un algorithme pour déterminer l'étendue de valeurs d'une liste."
      ]
    },
    {
      "cell_type": "markdown",
      "metadata": {
        "id": "5iahp8mAt6gP"
      },
      "source": [
        "**PSEUDOCODE**\n",
        "\n",
        "```\n",
        "Demander à l'utilisateur le nombre de notes - 'no_de_notes'\n",
        "Créer une liste appelée 'notes' pour stocker les valeurs\n",
        "Répéter no_de_notes fois\n",
        "  Obtenir la note de l'utilisateur\n",
        "  Ajouter la note à la fin de la liste\n",
        "\n",
        "```"
      ]
    },
    {
      "cell_type": "code",
      "execution_count": null,
      "metadata": {
        "id": "1fQb8G5xpAf8"
      },
      "outputs": [],
      "source": [
        "4334# Le code pour remplir la liste des notes\n",
        "notes = [] # définir la structure des données d'une liste\n",
        "\n",
        "no_de_notes = int(input(\"Combien de notes est-ce qu'il y a? \"))\n",
        "\n",
        "for i in range(no_de_notes):\n",
        "  notes.append(int(input(\"Note: \")))\n"
      ]
    },
    {
      "cell_type": "markdown",
      "metadata": {
        "id": "lqu7HSYfvZol"
      },
      "source": [
        "Vérifions le nombre de notes dans notre liste, nous pouvons utiliser la fonction intégrée **`len(<list>)`**. \n",
        "\n",
        "---\n",
        "\n",
        "\n",
        "**REMARQUE** :  La fonction `len()` peut être utilisée pour n'importe quelle structure de données."
      ]
    },
    {
      "cell_type": "code",
      "execution_count": null,
      "metadata": {
        "id": "ogy2JS1YvyA0"
      },
      "outputs": [],
      "source": [
        "nom_de_articles = len(notes)\n",
        "\n",
        "# Exemple d'utilisation d'une chaîne formatée f-string en Python pour intégrer des variables dans une chaîne pour une sortie formatée.\n",
        "print (f'Il y a {nom_de_articles} notes stockées dans cette liste')"
      ]
    },
    {
      "cell_type": "markdown",
      "metadata": {
        "id": "OSGbM1KsSYQ3"
      },
      "source": [
        "# Analyse de données à une variable \n",
        "\n",
        "Explorons certaines des techniques d'analyse de données à une variable les plus courantes en utilisant Python. \n",
        "\n",
        "\n",
        "Nous commencerons par une approche de premiers principes en utilisant des algorithmes explicites impliquant des boucles et des conditionnelles. \n",
        "\n",
        "Dans cette tâche, nous utiliserons des bibliothèques Python telles que **Matplotlib** et d'autres (Numpy / Pandas)."
      ]
    },
    {
      "cell_type": "markdown",
      "metadata": {
        "id": "OHtpvsboGadN"
      },
      "source": [
        "Nous examinerons les mesures statistiques suivantes :\n",
        "\n",
        "*   étendue (alias *'la plage des données'*)\n",
        "*   moyenne\n",
        "*   médian\n",
        "\n"
      ]
    },
    {
      "cell_type": "markdown",
      "metadata": {
        "id": "GmJePvvj7nd-"
      },
      "source": [
        "## Calcul de l'étendue des valeurs"
      ]
    },
    {
      "cell_type": "markdown",
      "metadata": {
        "id": "wVoxOy7LHCZE"
      },
      "source": [
        "L'étendue mesure la dispersion des valeurs de données. Nous devons trouver la plus petite et la plus grande valeur dans la liste et calculer la différence. \n",
        "\n",
        "En Python, cela peut être accompli facilement car il existe des fonctions intégrées que nous pouvons utiliser.\n",
        "\n",
        "* [**`max(list)`**](https://docs.python.org/fr/3/library/functions.html#max)\n",
        "* [**`min(list)`**](https://docs.python.org/fr/3/library/functions.html#min)\n"
      ]
    },
    {
      "cell_type": "code",
      "execution_count": null,
      "metadata": {
        "id": "U8VwhRyvHWWR"
      },
      "outputs": [],
      "source": [
        "# Determine the range of values\n",
        "étendue_données = max(notes) - min(notes)\n",
        "print (étendue_données)"
      ]
    },
    {
      "cell_type": "markdown",
      "metadata": {
        "id": "JWZ_7TudH00z"
      },
      "source": [
        "De nombreux langages de programmation n'ont pas ces fonctions intégrées. En l'absence de max() et min(), il serait important de comprendre comment utiliser les instructions de répétition (boucle / *loop*) et les conditions pour implémenter les algorithmes.\n"
      ]
    },
    {
      "cell_type": "markdown",
      "metadata": {
        "id": "8Jx1r_zSIX5q"
      },
      "source": [
        "**PSEUDOCODE**\n",
        "\n",
        "```\n",
        "Définir note_la_plus_basse comme étant le premier élément de la liste\n",
        "Définir la_meilleure_note comme étant le premier élément de la liste\n",
        "\n",
        "Répéter pour chaque note dans la liste\n",
        "    si note_actuelle est supérieure à la_meilleure_note\n",
        "        définir la_meilleure_note comme étant la note_actuelle\n",
        "\n",
        "    si note_actuelle est inférieure à note_la_plus_basse\n",
        "        définir note_la_plus_basse comme étant la note_actuelle\n",
        "    \n",
        "étendue_données = la_meilleure_note - note_la_plus_basse    \n",
        "Afficher l'étendue_données\n",
        "```"
      ]
    },
    {
      "cell_type": "markdown",
      "metadata": {
        "id": "LkXWjydZAJrL"
      },
      "source": [
        "Le pseudocode est converti en Python ci-dessous.\n",
        "\n",
        "Lisez le code pour vérifier qu'il correspond au pseudocode."
      ]
    },
    {
      "cell_type": "code",
      "execution_count": null,
      "metadata": {
        "id": "Rm5KZp6MIRaA"
      },
      "outputs": [],
      "source": [
        "note_la_plus_basse = notes[0]\n",
        "la_meilleure_note = notes[0]\n",
        "\n",
        "for note_actuelle in notes:\n",
        "  if note_actuelle > la_meilleure_note:\n",
        "    la_meilleure_note = note_actuelle\n",
        "  elif note_actuelle < note_la_plus_basse:\n",
        "    note_la_plus_basse = note_actuelle\n",
        "\n",
        "étendue_données = la_meilleure_note - note_la_plus_basse\n",
        "print (étendue_données)\n"
      ]
    },
    {
      "cell_type": "markdown",
      "metadata": {
        "id": "ZpMkzmuyJnfS"
      },
      "source": [
        "## **Défi** : Comment est-ce que l'étendue changerait si les valeurs les plus basses et les plus élevées étaient supprimées ?\n",
        "\n",
        "Pour vérifier votre réponse, **concevez** et **implémentez** un **algorithme** pour tester votre réponse.\n",
        "\n",
        "Une suggestion : faites des recherches sur les sujets suivants :\n",
        "\n",
        "*   Comment copier une liste dans une nouvelle liste ?\n",
        "*   Comment supprimer des éléments d'une liste par valeur ?\n",
        "\n"
      ]
    },
    {
      "cell_type": "markdown",
      "metadata": {
        "id": "dIzH-aVBDtf8"
      },
      "source": [
        "**PSEUDOCODE**\n",
        "```\n",
        "TODO\n",
        "```"
      ]
    },
    {
      "cell_type": "code",
      "execution_count": null,
      "metadata": {
        "id": "iLHXFMDj29I5"
      },
      "outputs": [],
      "source": [
        "nouvelles_notes = notes[:]\n",
        "nouvelles_notes.remove(la_meilleure_note)\n",
        "nouvelles_notes.remove(note_la_plus_basse)"
      ]
    },
    {
      "cell_type": "markdown",
      "metadata": {
        "id": "py4cs9LE38bk"
      },
      "source": [
        "Puisque nous avons écrit l'algorithme de calcul de l'étendue de valeurs, continuons et créons un *artefact de codage* réutilisable ou **fonction**.\n",
        "\n",
        "En Python, les **fonctions** sont créées à l'aide du mot-clé **`def`**. Chaque fonction peut inclure des paramètres d'entrée et des valeurs de retour.\n",
        "\n",
        "Dans ce cas, notre entrée sera **une liste de valeurs numériques** et notre valeur de retour sera un nombre. En raison du typage dynamique des données de Python, la fonction pourra gérer des valeurs entières ou flottantes.\n",
        "\n",
        "\n",
        "\n",
        "---\n",
        "\n",
        "\n",
        "\n",
        "REMARQUE : nous éviterons d'utiliser le nom de fonction de **range()** car il s'agit d'un mot-clé intégré fréquemment utilisé dans Python."
      ]
    },
    {
      "cell_type": "code",
      "execution_count": null,
      "metadata": {
        "id": "Ay5jqqd-47-0"
      },
      "outputs": [],
      "source": [
        "def trouver_étendue(données):\n",
        "  \"\"\"Calcul de l'étendue de valeurs\n",
        "\n",
        "  paramètres:\n",
        "  data : (list of numbers)\n",
        "\n",
        "  Retour:\n",
        "  nomber: Renvoie un nombre du même type de données fourni dans le paramètre d'entrée\n",
        "  \"\"\"\n",
        "  return max(données)-min(données)"
      ]
    },
    {
      "cell_type": "markdown",
      "metadata": {
        "id": "7v9p30b-59Pk"
      },
      "source": [
        "Maintenant que la fonction `trouver_étendue()` est définie, nous pouvons l'utiliser avec la nouvelle liste que nous avons créée avec les notes, la plus basse et la meilleure, supprimées."
      ]
    },
    {
      "cell_type": "code",
      "execution_count": null,
      "metadata": {
        "id": "hUsNGuzc6HBl"
      },
      "outputs": [],
      "source": [
        "print(trouver_étendue(nouvelles_notes))"
      ]
    },
    {
      "cell_type": "markdown",
      "metadata": {
        "id": "VXzqlCjE6NmG"
      },
      "source": [
        "Imprimons le contenu des deux listes pour être sûr que les 2 éléments ont bien été supprimés."
      ]
    },
    {
      "cell_type": "code",
      "execution_count": null,
      "metadata": {
        "id": "qwwYtwCK6Tew"
      },
      "outputs": [],
      "source": [
        "print (notes)\n",
        "print (nouvelles_notes)"
      ]
    },
    {
      "cell_type": "markdown",
      "metadata": {
        "id": "loENDTFd6kV7"
      },
      "source": [
        "Les listes Python ne conservent pas les éléments dans un ordre trié. Si vous souhaitez trier les données, 2 techniques sont généralement utilisées. \n",
        "\n",
        "*   Trier les éléments dans la liste existante (tri sur place).\n",
        "*   Créer une nouvelle liste triée.\n",
        "\n",
        "Le tri est expliqué dans la [documentation](https://docs.python.org/fr/3/howto/sorting.html) Python.\n",
        "\n",
        "*  Si nous souhaitons trier les données **sur place**, utilisez simplement la méthode `<list>.sort()`.\n",
        "\n",
        "*  Pour **créer une nouvelle liste triée**, utilisez la fonction `sorted(<list>) -> new_list`.\n",
        "\n",
        "\n"
      ]
    },
    {
      "cell_type": "code",
      "execution_count": null,
      "metadata": {
        "id": "oO7fqw_f7SP_"
      },
      "outputs": [],
      "source": [
        "notes_triées = sorted(nouvelles_notes)\n",
        "print (notes_triées)"
      ]
    },
    {
      "cell_type": "code",
      "execution_count": null,
      "metadata": {
        "id": "eqxUKvto7ZdD"
      },
      "outputs": [],
      "source": [
        "print (nouvelles_notes)"
      ]
    },
    {
      "cell_type": "code",
      "execution_count": null,
      "metadata": {
        "id": "PTHwMr4C7eDd"
      },
      "outputs": [],
      "source": [
        "nouvelles_notes.sort()\n",
        "print (nouvelles_notes)"
      ]
    },
    {
      "cell_type": "markdown",
      "metadata": {
        "id": "t2vyB_Mr70LV"
      },
      "source": [
        "## Calcul de la moyenne"
      ]
    },
    {
      "cell_type": "markdown",
      "metadata": {
        "id": "DmyrTcjO74RQ"
      },
      "source": [
        "La moyenne est le rapport de la somme des valeurs de données et du nombre de valeurs.\n",
        "\n",
        "La moyenne peut être calculée à l'aide des fonctions intégrée suivante :\n",
        "* [**`sum()`**](https://docs.python.org/fr/3/library/functions.html#sum)\n",
        "* [**`len()`**](https://docs.python.org/fr/3/library/functions.html#len)\n",
        "\n",
        "Créons de nouvelles fonctions."
      ]
    },
    {
      "cell_type": "markdown",
      "metadata": {
        "id": "RO1eaoUV8mkk"
      },
      "source": [
        "## **Défi** : Créez une fonction appelée **`moyenne(<list>)->float`**"
      ]
    },
    {
      "cell_type": "code",
      "execution_count": null,
      "metadata": {
        "id": "qH-pI2i_8tLu"
      },
      "outputs": [],
      "source": [
        "def moyenne(données):\n",
        "  return sum(données)/len(données)"
      ]
    },
    {
      "cell_type": "markdown",
      "metadata": {
        "id": "AB45EeE88ybt"
      },
      "source": [
        "Utilisons la nouvelle fonction pour trouver la moyenne de la liste originale des notes."
      ]
    },
    {
      "cell_type": "code",
      "execution_count": null,
      "metadata": {
        "id": "Yk_pvmbU843D"
      },
      "outputs": [],
      "source": [
        "moyenne(notes)"
      ]
    },
    {
      "cell_type": "markdown",
      "metadata": {
        "id": "O0nG57xk89tf"
      },
      "source": [
        "Qu'est-ce que se passe lorsque les notes, la plus basse et la meilleure, sont supprimées ?"
      ]
    },
    {
      "cell_type": "code",
      "execution_count": null,
      "metadata": {
        "id": "Pu5G402Z9E2K"
      },
      "outputs": [],
      "source": [
        "moyenne(nouvelles_notes)"
      ]
    },
    {
      "cell_type": "markdown",
      "metadata": {
        "id": "ykhtVme79a7-"
      },
      "source": [
        "Explorez la fonction intégrée [**`round()`**](https://docs.python.org/fr/3/library/functions.html#round) utilisée pour arrondir le résultat au nombre entier le plus proche ou à n'importe quel nombre de décimales."
      ]
    },
    {
      "cell_type": "code",
      "execution_count": null,
      "metadata": {
        "id": "7uBUq2gM9IkZ"
      },
      "outputs": [],
      "source": [
        "round(moyenne(nouvelles_notes),2)"
      ]
    },
    {
      "cell_type": "markdown",
      "metadata": {
        "id": "B7ZjFDkTCphE"
      },
      "source": [
        "## Calcul de la médiane\n",
        "\n",
        "La médiane est une autre mesure de tendance centrale pour les données, mais contrairement à la moyenne, elle n'est pas faussée par des valeurs très petites ou grandes.\n",
        "\n",
        "La médiane est l'élément du milieu dans une liste triée de données. S'il y a un nombre pair d'éléments dans la liste, la médiane est la moyenne des 2 éléments du milieu."
      ]
    },
    {
      "cell_type": "markdown",
      "metadata": {
        "id": "MBl9wCVpDI1T"
      },
      "source": [
        "## **Défi** : Concevez et implémentez une fonction médiane capable de gérer des listes numériques de longueurs variables.\n"
      ]
    },
    {
      "cell_type": "markdown",
      "metadata": {
        "id": "-BYuYLfKDYp8"
      },
      "source": [
        "**PSEUDOCODE**\n",
        "```\n",
        "TODO\n",
        "```"
      ]
    },
    {
      "cell_type": "code",
      "execution_count": null,
      "metadata": {
        "id": "_l9QeCpiIizr"
      },
      "outputs": [],
      "source": [
        "def médiane(données):\n",
        "  # créer une version triée des données\n",
        "  nouvelles_données = sorted(données)\n",
        "\n",
        "  # renvoie l'élément du milieu s'il y a un nombre impair d'éléments\n",
        "  if (len(nouvelles_données)%2==1):\n",
        "    return nouvelles_données[len(nouvelles_données)//2]\n",
        "  \n",
        "  # trouver la somme des 2 éléments du milieu\n",
        "  somme_milieu = nouvelles_données[len(nouvelles_données)//2] + nouvelles_données[len(nouvelles_données)//2+1]\n",
        "\n",
        "  # calculer et renvoyer la moyenne des 2 items du milieu\n",
        "  return somme_milieu/2.0"
      ]
    },
    {
      "cell_type": "code",
      "execution_count": null,
      "metadata": {
        "id": "6y8WDAVoJeDm"
      },
      "outputs": [],
      "source": [
        "médiane(notes)"
      ]
    },
    {
      "cell_type": "code",
      "execution_count": null,
      "metadata": {
        "id": "Xr0t_B_NJwBb"
      },
      "outputs": [],
      "source": [
        "médiane(nouvelles_notes)"
      ]
    },
    {
      "cell_type": "markdown",
      "metadata": {
        "id": "FTJrBtB4Jyz0"
      },
      "source": [
        "# Visualisation de données"
      ]
    },
    {
      "cell_type": "markdown",
      "metadata": {
        "id": "5Z68xJAxJ6cO"
      },
      "source": [
        "Il existe de nombreuses façons de [visualiser des données](https://www150.statcan.gc.ca/n1/edu/power-pouvoir/ch9/5214821-fra.htm).\n",
        "\n",
        "Pour l'analyse de données à variable unique, certaines des représentations les plus courantes incluent :\n",
        "\n",
        "\n",
        "*   histogrammes\n",
        "*   boîtes à moustaches (*boxplots*)\n",
        "*   graphiques circulaires (camemberts ou *pie charts*)\n",
        "\n",
        "\n",
        "\n",
        "\n"
      ]
    },
    {
      "cell_type": "markdown",
      "metadata": {
        "id": "ahMrF_ymDvk0"
      },
      "source": [
        "## Des histogrammes\n",
        "Un **histogramme** est utilisé pour afficher la distribution des données dans un jeu de données. Les données sont regroupées en fonction des bacs.\n",
        "\n",
        "Le jeu de données ne change en rien.\n",
        "\n",
        "Examinez le code ci-dessous pour découvrir comment visualiser un ensemble de données aléatoire.\n",
        "\n",
        "Nous utilisons la bibliothèque **[matplotlib](https://matplotlib.org/)** pour réaliser cette visualisation simple."
      ]
    },
    {
      "cell_type": "code",
      "execution_count": null,
      "metadata": {
        "id": "tr67kd0z8c8S"
      },
      "outputs": [],
      "source": [
        "import matplotlib.pyplot as plt\n",
        "import random\n",
        "import numpy as np\n",
        "\n",
        "données_volumineuses = []\n",
        "for _ in range(120):\n",
        "  données_volumineuses.append(random.randint(50, 100))\n",
        "\n",
        "# Une autre technique pour générer des données aléatoires consiste à utiliser la bibliothèque **numpy**\n",
        "# données_volumineuses = np.random.randint(50,100,120)\n",
        "\n",
        "plt.hist(données_volumineuses, bins=[0,50,60,70,80,90,100],rwidth=0.9, edgecolor='black')\n",
        "plt.xlabel(\"Notes\")\n",
        "plt.xticks(np.arange(0,101,10))\n",
        "\n",
        "plt.show()"
      ]
    },
    {
      "cell_type": "markdown",
      "metadata": {
        "id": "Uq8eBJbZ5jHS"
      },
      "source": [
        "## Des boîtes à moustaches\n",
        "\n",
        "Plus tôt, nous avons calculé la moyenne et la médiane d'une liste de notes. Explorons la distribution des notes à l'aide d'une boîte à moustaches.\n",
        "\n",
        "Une **boîte à moustaches** (*boxplot*) affichera la médiane, le 25e centile, le 75 % de centile et les valeurs extrêmes d'un ensemble de données.\n",
        "\n"
      ]
    },
    {
      "cell_type": "code",
      "execution_count": null,
      "metadata": {
        "id": "MaQI6NuA656B"
      },
      "outputs": [],
      "source": [
        "# Créer une boîte à moustaches\n",
        "plt.boxplot(données_volumineuses)\n",
        " \n",
        "# Affichage d'une boîte à moustaches\n",
        "plt.show()"
      ]
    },
    {
      "cell_type": "markdown",
      "metadata": {
        "id": "X6Kh3jjJ8LxR"
      },
      "source": [
        "## Des dictionaires\n",
        "\n",
        "Un dictionnaire Python est une structure de données qui stocke des informations sous forme de paires **clé-valeur**, où chaque élément du dictionnaire est associé à une clé unique qui peut être utilisée pour accéder à sa valeur correspondante.\n",
        "\n",
        "Supposons que nous ayons besoin d'un algorithme pour déterminer la distribution de fréquence des données dans notre liste `données_volumineuses`. \n",
        "\n",
        "Nous allons créer un dictionnaire Python où la clé est le niveau (1,2,3,4). Nous utiliserons les règles suivantes :\n",
        "\n",
        "*   Le niveau 1 correspond aux notes 50 à 59\n",
        "*   Le niveau 2 correspond aux notes 60 à 69\n",
        "*   Le niveau 3 correspond aux notes 70 à 79\n",
        "*   Le niveau 4 correspond aux notes 80 à 99\n",
        "\n"
      ]
    },
    {
      "cell_type": "code",
      "execution_count": null,
      "metadata": {
        "id": "uxnosA0O9H4x"
      },
      "outputs": [],
      "source": [
        "# créer un dictionnaire pour contenir la fréquence des niveaux\n",
        "niveaux = {}\n",
        "\n",
        "for note in données_volumineuses:\n",
        "  if (note >=50 and note <60):\n",
        "    if (niveaux.get('1') == None):\n",
        "      niveaux['1'] =1\n",
        "    else:\n",
        "      niveaux['1'] += 1\n",
        "  elif (note >=60 and note <70):\n",
        "    if (niveaux.get('2') == None):\n",
        "      niveaux['2'] =1\n",
        "    else:\n",
        "      niveaux['2'] += 1\n",
        "  elif (note >=70 and note <80):\n",
        "    if (niveaux.get('3') == None):\n",
        "      niveaux['3'] =1\n",
        "    else:\n",
        "      niveaux['3'] +=1\n",
        "  elif (note >=80):\n",
        "    if (niveaux.get('4') == None):\n",
        "      niveaux['4'] =1\n",
        "    else:\n",
        "      niveaux['4'] += 1\n",
        "\n",
        "print (niveaux)"
      ]
    },
    {
      "cell_type": "markdown",
      "metadata": {
        "id": "-s9fmhd5GENg"
      },
      "source": [
        "Le code ci-dessus crée une structure de données de dictionnaire. Si la clé n'a pas de valeur (`None`), alors un '1' est stocké comme première occurrence d'une note au niveau. Si la clé a déjà une valeur associée, la valeur est augmentée de 1.\n",
        "\n",
        "A la fin de la boucle, il y a un dictionnaire de clés avec une valeur correspondante représentant la fréquence de la note.\n",
        "\n",
        "\n",
        "REMARQUE : Le mot-clé `None` est utilisé pour définir une valeur nulle, ou aucune valeur du tout.\n"
      ]
    },
    {
      "cell_type": "markdown",
      "metadata": {
        "id": "klH3wsrkGshr"
      },
      "source": [
        "## Des graphiques circulaires\n",
        "\n",
        "Un **graphique circulaire** est une visualisation utile pour voir la distribution des données sous forme de pourcentage. La surface de chaque segment représente la proportion des données dans la catégorie."
      ]
    },
    {
      "cell_type": "markdown",
      "metadata": {
        "id": "9nSWnu7KHP-M"
      },
      "source": [
        "Le code ci-dessous utilise la méthode Python `keys()` pour extraire les clés et la méthode `values()` pour extraire les valeurs du dictionnaire."
      ]
    },
    {
      "cell_type": "code",
      "execution_count": null,
      "metadata": {
        "id": "z0EIkzn9-e85"
      },
      "outputs": [],
      "source": [
        "clés = niveaux.keys()\n",
        "valeurs = niveaux.values()\n",
        "\n",
        "plt.pie(valeurs, labels=clés)\n",
        "plt.title(\"La répartition des notes\")\n",
        "plt.show()\n"
      ]
    },
    {
      "cell_type": "markdown",
      "metadata": {
        "id": "fyeA5gxvMC_m"
      },
      "source": [
        "# L'import de données\n",
        "\n",
        "Nous allons explorer quelques jeu de données simples.\n",
        "\n",
        "Nous allons commencer avec un fichier texte contenant les mots utilisés dans une collection de chansons du célèbre musicien, les Beatles."
      ]
    },
    {
      "cell_type": "code",
      "execution_count": null,
      "metadata": {
        "id": "_2eBgOV7MgbJ"
      },
      "outputs": [],
      "source": [
        "import pandas as pd\n",
        "url = \"https://raw.githubusercontent.com/coding-integration/Science-des-donnees/main/beatles.txt\"\n",
        "\n",
        "df = pd.read_csv(url,header=None)\n",
        "\n",
        "print (df.shape)  # afficher le nombre de mots"
      ]
    },
    {
      "cell_type": "markdown",
      "metadata": {
        "id": "IJJlbyxDQchi"
      },
      "source": [
        "La trame de données se compose de 47623 lignes et d'une seule colonne.\n"
      ]
    },
    {
      "cell_type": "markdown",
      "metadata": {
        "id": "wqGrlivNSEHC"
      },
      "source": [
        "Déterminons le nombre de mots uniques dans les paroles.\n",
        "\n",
        "Nous allons créer un ensemble de mots Python, mais pour ce faire, nous allons d'abord extraire les mots dans une liste Python."
      ]
    },
    {
      "cell_type": "code",
      "execution_count": null,
      "metadata": {
        "id": "AQ-GQ0NpRbmG"
      },
      "outputs": [],
      "source": [
        "mots = df[df.columns[0]].values.tolist() # convertir l'index de colonne 0 en créer une liste\n",
        "\n",
        "print (mots)"
      ]
    },
    {
      "cell_type": "markdown",
      "metadata": {
        "id": "q6OMrMqhSOD7"
      },
      "source": [
        "# Des ensembles\n",
        "\n",
        "Un ensemble Python est une structure de données non ordonnée qui n'autorise pas les valeurs en double.\n",
        "\n",
        "Le code ci-dessous profitera du fait que chaque élément d'un ensemble python doit être unique en ajoutant simplement des éléments à un ensemble. Lorsque chaque mot est ajouté à l'ensemble, les doublons seront supprimés automatiquement."
      ]
    },
    {
      "cell_type": "code",
      "execution_count": null,
      "metadata": {
        "id": "Ml5HlO3_Qb9h"
      },
      "outputs": [],
      "source": [
        "mots_uniques = set()\n",
        "\n",
        "for mot in mots:\n",
        "  mots_uniques.add(mot)\n",
        "\n",
        "print (len(mots_uniques))"
      ]
    },
    {
      "cell_type": "markdown",
      "metadata": {
        "id": "ZVlr_eQYSn94"
      },
      "source": [
        "Nous avons maintenant un ensemble de mots uniques de la plus grande liste.\n",
        "\n",
        "Trouvons la fréquence de chacun des mots en utilisant une technique similaire à la façon dont nous avons déterminé les niveaux pour les notes.\n",
        "\n",
        "Nous définirons un dictionnaire où la **clé est le mot** et la **valeur sera le nombre** ou la fréquence du mot."
      ]
    },
    {
      "cell_type": "code",
      "execution_count": null,
      "metadata": {
        "id": "i_RLST26S4dd"
      },
      "outputs": [],
      "source": [
        "fréq_mot = {}\n",
        "\n",
        "for mot in mots:\n",
        "  if (fréq_mot.get(mot) == None):\n",
        "    fréq_mot[mot] = 1\n",
        "  else:\n",
        "    fréq_mot[mot] += 1\n",
        "\n",
        "print (fréq_mot)"
      ]
    },
    {
      "cell_type": "markdown",
      "metadata": {
        "id": "V6azJc5QTP3H"
      },
      "source": [
        "C'est un peu difficile de déterminer les mots les plus fréquents.\n",
        "\n",
        "Dans le code ci-dessous, nous créons une nouvelle liste qui est triée dans l'ordre inverse en fonction du nombre."
      ]
    },
    {
      "cell_type": "code",
      "execution_count": null,
      "metadata": {
        "id": "8kZJK2g4TXS4"
      },
      "outputs": [],
      "source": [
        "# créer une liste des mots les plus fréquents triés par nombre\n",
        "plus_fréq = []\n",
        "for clé in fréq_mot.keys():\n",
        "  plus_fréq.append([fréq_mot[clé],clé])\n",
        "\n",
        "fréq_triée = sorted (plus_fréq,reverse=True)\n",
        "\n",
        "for i in range(10):\n",
        "  print (fréq_triée[i])\n"
      ]
    }
  ],
  "metadata": {
    "colab": {
      "provenance": [],
      "collapsed_sections": [
        "XKL_kqaScRSg",
        "BuOYFjZWduQJ",
        "ZpMkzmuyJnfS",
        "B7ZjFDkTCphE",
        "ahMrF_ymDvk0",
        "Uq8eBJbZ5jHS",
        "X6Kh3jjJ8LxR"
      ],
      "include_colab_link": true
    },
    "kernelspec": {
      "display_name": "Python 3",
      "name": "python3"
    },
    "language_info": {
      "name": "python"
    }
  },
  "nbformat": 4,
  "nbformat_minor": 0
}